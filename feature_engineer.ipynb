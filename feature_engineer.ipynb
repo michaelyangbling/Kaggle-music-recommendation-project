{
 "cells": [
  {
   "cell_type": "code",
   "execution_count": 2,
   "metadata": {
    "collapsed": true
   },
   "outputs": [],
   "source": [
    "import numpy as np\n",
    "import pandas as pd\n",
    "import lightgbm as lgb\n",
    "import datetime\n",
    "import math\n",
    "import gc"
   ]
  },
  {
   "cell_type": "code",
   "execution_count": 3,
   "metadata": {},
   "outputs": [
    {
     "data": {
      "text/plain": [
       "0"
      ]
     },
     "execution_count": 3,
     "metadata": {},
     "output_type": "execute_result"
    }
   ],
   "source": [
    "import gc\n",
    "gc.collect()"
   ]
  },
  {
   "cell_type": "code",
   "execution_count": 5,
   "metadata": {},
   "outputs": [
    {
     "name": "stdout",
     "output_type": "stream",
     "text": [
      "start\n"
     ]
    },
    {
     "name": "stdout",
     "output_type": "stream",
     "text": [
      "finished\n"
     ]
    }
   ],
   "source": [
    "print(\"start\")\n",
    "data_path = '/Users/yzh/Desktop/R data/kkbox/'\n",
    "trainx = pd.read_csv(data_path + 'train.csv', dtype={'msno' : 'category',\n",
    "                                                'source_system_tab' : 'category',\n",
    "                                                  'source_screen_name' : 'category',\n",
    "                                                  'source_type' : 'category',\n",
    "                                                  'target' : np.uint8,\n",
    "                                                  'song_id' : 'category'})\n",
    "members = pd.read_csv(data_path + 'members.csv',dtype={'city' : 'category',\n",
    "                                                      'bd' : np.uint8,\n",
    "                                                      'gender' : 'category',\n",
    "                                                      'registered_via' : 'category'},\n",
    "                     parse_dates=['registration_init_time','expiration_date'])\n",
    "songs_extra = pd.read_csv(data_path + 'song_extra_info.csv')\n",
    "songs = pd.read_csv(data_path + 'songs.csv',dtype={'genre_ids': 'category',\n",
    "                                                  'language' : 'category',\n",
    "                                                  'artist_name' : 'category',\n",
    "                                                  'composer' : 'category',\n",
    "                                                  'lyricist' : 'category',\n",
    "                                                  'song_id' : 'category'})\n",
    "train=trainx[0:5500000];test=trainx[5500000:7477418]\n",
    "print(\"finished\")"
   ]
  },
  {
   "cell_type": "code",
   "execution_count": 6,
   "metadata": {},
   "outputs": [
    {
     "name": "stdout",
     "output_type": "stream",
     "text": [
      "Data merging...\n"
     ]
    },
    {
     "name": "stdout",
     "output_type": "stream",
     "text": [
      "Done merging...\n"
     ]
    }
   ],
   "source": [
    "print('Data merging...')\n",
    "\n",
    "\n",
    "train = train.merge(songs, on='song_id', how='left')\n",
    "test = test.merge(songs, on='song_id', how='left')\n",
    "\n",
    "members['membership_days'] = members['expiration_date'].subtract(members['registration_init_time']).dt.days.astype(int)\n",
    "\n",
    "members['registration_year'] = members['registration_init_time'].dt.year\n",
    "members['registration_month'] = members['registration_init_time'].dt.month\n",
    "members['registration_date'] = members['registration_init_time'].dt.day\n",
    "\n",
    "members['expiration_year'] = members['expiration_date'].dt.year\n",
    "members['expiration_month'] = members['expiration_date'].dt.month\n",
    "members['expiration_date'] = members['expiration_date'].dt.day\n",
    "members = members.drop(['registration_init_time'], axis=1)\n",
    "\n",
    "def isrc_to_year(isrc):\n",
    "    if type(isrc) == str:\n",
    "        if int(isrc[5:7]) > 17:\n",
    "            return 1900 + int(isrc[5:7])\n",
    "        else:\n",
    "            return 2000 + int(isrc[5:7])\n",
    "    else:\n",
    "        return np.nan\n",
    "        \n",
    "songs_extra['song_year'] = songs_extra['isrc'].apply(isrc_to_year)\n",
    "songs_extra.drop(['isrc', 'name'], axis = 1, inplace = True)\n",
    "\n",
    "train = train.merge(members, on='msno', how='left')\n",
    "test = test.merge(members, on='msno', how='left')\n",
    "\n",
    "train = train.merge(songs_extra, on = 'song_id', how = 'left')\n",
    "train.song_length.fillna(200000,inplace=True)\n",
    "train.song_length = train.song_length.astype(np.uint32)\n",
    "train.song_id = train.song_id.astype('category')\n",
    "\n",
    "\n",
    "test = test.merge(songs_extra, on = 'song_id', how = 'left')\n",
    "test.song_length.fillna(200000,inplace=True)\n",
    "test.song_length = test.song_length.astype(np.uint32)\n",
    "test.song_id = test.song_id.astype('category')\n",
    "\n",
    "# import gc\n",
    "# del members, songs; gc.collect();\n",
    "\n",
    "print('Done merging...')"
   ]
  },
  {
   "cell_type": "code",
   "execution_count": 7,
   "metadata": {},
   "outputs": [
    {
     "name": "stdout",
     "output_type": "stream",
     "text": [
      "Adding new features\n"
     ]
    },
    {
     "name": "stdout",
     "output_type": "stream",
     "text": [
      "done\n"
     ]
    }
   ],
   "source": [
    "print (\"Adding new features\")\n",
    "\n",
    "def genre_id_count(x):\n",
    "    if x == 'no_genre_id':\n",
    "        return 0\n",
    "    else:\n",
    "        return x.count('|') + 1\n",
    "\n",
    "train['genre_ids'].fillna('no_genre_id',inplace=True)\n",
    "test['genre_ids'].fillna('no_genre_id',inplace=True)\n",
    "train['genre_ids_count'] = train['genre_ids'].apply(genre_id_count).astype(np.int8)\n",
    "test['genre_ids_count'] = test['genre_ids'].apply(genre_id_count).astype(np.int8)\n",
    "\n",
    "def lyricist_count(x):\n",
    "    if x == 'no_lyricist':\n",
    "        return 0\n",
    "    else:\n",
    "        return sum(map(x.count, ['|', '/', '\\\\', ';'])) + 1\n",
    "    return sum(map(x.count, ['|', '/', '\\\\', ';']))\n",
    "\n",
    "train['lyricist'].fillna('no_lyricist',inplace=True)\n",
    "test['lyricist'].fillna('no_lyricist',inplace=True)\n",
    "train['lyricists_count'] = train['lyricist'].apply(lyricist_count).astype(np.int8)\n",
    "test['lyricists_count'] = test['lyricist'].apply(lyricist_count).astype(np.int8)\n",
    "\n",
    "def composer_count(x):\n",
    "    if x == 'no_composer':\n",
    "        return 0\n",
    "    else:\n",
    "        return sum(map(x.count, ['|', '/', '\\\\', ';'])) + 1\n",
    "\n",
    "train['composer'].fillna('no_composer',inplace=True)\n",
    "test['composer'].fillna('no_composer',inplace=True)\n",
    "train['composer_count'] = train['composer'].apply(composer_count).astype(np.int8)\n",
    "test['composer_count'] = test['composer'].apply(composer_count).astype(np.int8)\n",
    "\n",
    "def is_featured(x):\n",
    "    if 'feat' in str(x) :\n",
    "        return 1\n",
    "    return 0\n",
    "\n",
    "train['artist_name'].fillna('no_artist',inplace=True)\n",
    "test['artist_name'].fillna('no_artist',inplace=True)\n",
    "train['is_featured'] = train['artist_name'].apply(is_featured).astype(np.int8)\n",
    "test['is_featured'] = test['artist_name'].apply(is_featured).astype(np.int8)\n",
    "\n",
    "def artist_count(x):\n",
    "    if x == 'no_artist':\n",
    "        return 0\n",
    "    else:\n",
    "        return x.count('and') + x.count(',') + x.count('feat') + x.count('&')\n",
    "\n",
    "train['artist_count'] = train['artist_name'].apply(artist_count).astype(np.int8)\n",
    "test['artist_count'] = test['artist_name'].apply(artist_count).astype(np.int8)\n",
    "\n",
    "# if artist is same as composer\n",
    "train['artist_composer'] = (train['artist_name'] == train['composer']).astype(np.int8)\n",
    "test['artist_composer'] = (test['artist_name'] == test['composer']).astype(np.int8)\n",
    "\n",
    "\n",
    "# if artist, lyricist and composer are all three same\n",
    "train['artist_composer_lyricist'] = ((train['artist_name'] == train['composer']) & (train['artist_name'] == train['lyricist']) & (train['composer'] == train['lyricist'])).astype(np.int8)\n",
    "test['artist_composer_lyricist'] = ((test['artist_name'] == test['composer']) & (test['artist_name'] == test['lyricist']) & (test['composer'] == test['lyricist'])).astype(np.int8)\n",
    "\n",
    "# is song language 17 or 45. \n",
    "def song_lang_boolean(x):\n",
    "    if '17.0' in str(x) or '45.0' in str(x):\n",
    "        return 1\n",
    "    return 0\n",
    "\n",
    "train['song_lang_boolean'] = train['language'].apply(song_lang_boolean).astype(np.int8)\n",
    "test['song_lang_boolean'] = test['language'].apply(song_lang_boolean).astype(np.int8)\n",
    "\n",
    "\n",
    "_mean_song_length = np.mean(train['song_length'])\n",
    "def smaller_song(x):\n",
    "    if x < _mean_song_length:\n",
    "        return 1\n",
    "    return 0\n",
    "\n",
    "train['smaller_song'] = train['song_length'].apply(smaller_song).astype(np.int8)\n",
    "test['smaller_song'] = test['song_length'].apply(smaller_song).astype(np.int8)\n",
    "print(\"done\")"
   ]
  },
  {
   "cell_type": "code",
   "execution_count": 8,
   "metadata": {},
   "outputs": [
    {
     "name": "stdout",
     "output_type": "stream",
     "text": [
      "then adding magic play_ratio\n"
     ]
    },
    {
     "name": "stdout",
     "output_type": "stream",
     "text": [
      " adding genre&lyricist ratio\n"
     ]
    },
    {
     "name": "stdout",
     "output_type": "stream",
     "text": [
      "done\n"
     ]
    }
   ],
   "source": [
    "print(\"then adding magic play_ratio\")\n",
    "lentrain=len(train['song_id']);lentest=len(test['song_id'])\n",
    "\n",
    "_dict_ratio_composer_played_train = {k: v for k, \n",
    "                v in ( train['composer'].value_counts()/len(train['composer']) ).iteritems() }\n",
    "_dict_ratio_composer_played_test = {k: v for k, \n",
    "                v in ( test['composer'].value_counts()/len(test['composer']) ).iteritems() }\n",
    "def ratio_composer_played_train(x): \n",
    "     if x==\"no_composer\" or x==\"佚名\":\n",
    "        return 0.5/(lentrain)+0.5/lentest\n",
    "     else:  \n",
    "      try:\n",
    "        return 0.5*_dict_ratio_composer_played_train[x]+0.5*_dict_ratio_composer_played_test[x]\n",
    "      except KeyError:\n",
    "        return _dict_ratio_composer_played_train[x]\n",
    "\n",
    "def ratio_composer_played_test(x):\n",
    "    if x==\"no_composer\" or x==\"佚名\":\n",
    "         return 0.5/(lentrain)+0.5/lentest\n",
    "    else:\n",
    "      try:\n",
    "        return 0.5*_dict_ratio_composer_played_train[x]+0.5*_dict_ratio_composer_played_test[x]\n",
    "      except KeyError:\n",
    "        return _dict_ratio_composer_played_test[x]\n",
    "\n",
    "train['ratio_composer_played'] = train['composer'].apply(ratio_composer_played_train).astype(np.float64)\n",
    "test['ratio_composer_played'] = test['composer'].apply(ratio_composer_played_test).astype(np.float64)\n",
    "#######\n",
    "_dict_ratio_artist_played_train = {k: v for k, \n",
    "                v in ( train['artist_name'].value_counts()/len(train['artist_name']) ).iteritems() }\n",
    "_dict_ratio_artist_played_test = {k: v for k, \n",
    "                v in ( test['artist_name'].value_counts()/len(test['artist_name']) ).iteritems() }\n",
    "def ratio_artist_played_train(x):\n",
    "     if x==\"no_artist\" or x==\"Various Artists\" or x==\"群星\" or x==\"佚名\":\n",
    "         return 0.5/(lentrain)+0.5/lentest\n",
    "     else:\n",
    "      try:\n",
    "        return 0.5*_dict_ratio_artist_played_train[x]+0.5*_dict_ratio_artist_played_test[x]\n",
    "      except KeyError:\n",
    "        return _dict_ratio_artist_played_train[x]\n",
    "\n",
    "def ratio_artist_played_test(x):\n",
    "     if x==\"no_artist\" or x==\"Various Artists\" or x==\"群星\" or x==\"佚名\":\n",
    "         return 0.5/(lentrain)+0.5/lentest\n",
    "     else:\n",
    "      try:\n",
    "        return 0.5*_dict_ratio_artist_played_train[x]+0.5*_dict_ratio_artist_played_test[x]\n",
    "      except KeyError:\n",
    "        return _dict_ratio_artist_played_test[x]\n",
    "\n",
    "train['ratio_artist_played'] = train['artist_name'].apply(ratio_artist_played_train).astype(np.float64)\n",
    "test['ratio_artist_played'] = test['artist_name'].apply(ratio_artist_played_test).astype(np.float64)\n",
    "\n",
    "\n",
    "# In[ ]:\n",
    "\n",
    "_dict_ratio_song_played_train = {k: v for k, \n",
    "                v in ( train['song_id'].value_counts()/len(train['song_id']) ).iteritems() }\n",
    "_dict_ratio_song_played_test = {k: v for k, \n",
    "                v in ( test['song_id'].value_counts()/len(test['song_id']) ).iteritems() }\n",
    "def ratio_song_played_train(x):\n",
    "  if x==np.nan:\n",
    "      return 0.5/(lentrain)+0.5/lentest\n",
    "  else:\n",
    "    try:\n",
    "      return 0.5*_dict_ratio_song_played_train[x]+\\\n",
    "             0.5*_dict_ratio_song_played_test[x]\n",
    "    except KeyError:\n",
    "      return _dict_ratio_song_played_train[x]\n",
    "\n",
    "def ratio_song_played_test(x):\n",
    "  if x==np.nan:\n",
    "      return 0.5/(lentrain)+0.5/lentest\n",
    "  else:\n",
    "    try:\n",
    "      return 0.5*_dict_ratio_song_played_train[x]\\\n",
    "             +0.5*_dict_ratio_song_played_test[x]\n",
    "    except KeyError:\n",
    "      return _dict_ratio_song_played_test[x]\n",
    "\n",
    "train['ratio_song_played'] = train['song_id'].apply(ratio_song_played_train).astype(np.float64)\n",
    "test['ratio_song_played'] = test['song_id'].apply(ratio_song_played_test).astype(np.float64)\n",
    "\n",
    "\n",
    "# In[186]:\n",
    "\n",
    "#songs['artist_name'].value_counts()/len(train['artist_name'])\n",
    "\n",
    "\n",
    "print(\" adding genre&lyricist ratio\")\n",
    "_dict_ratio_genre_played_train = {k: v for k, \n",
    "                v in ( train['genre_ids'].value_counts()/len(train['genre_ids']) ).iteritems() }\n",
    "_dict_ratio_genre_played_test = {k: v for k, \n",
    "                v in ( test['genre_ids'].value_counts()/len(test['genre_ids']) ).iteritems() }\n",
    "def ratio_genre_played_train(x):\n",
    "    if x==\"no_genre_id\":\n",
    "      return 0.5/(lentrain)+0.5/lentest\n",
    "    else:\n",
    "     try:\n",
    "       return 0.5*_dict_ratio_genre_played_train[x]+0.5*_dict_ratio_genre_played_test[x]\n",
    "     except KeyError:\n",
    "       return _dict_ratio_genre_played_train[x]\n",
    "\n",
    "def ratio_genre_played_test(x):\n",
    "    if x==\"no_genre_id\":\n",
    "      return 0.5/(lentrain)+0.5/lentest\n",
    "    else:\n",
    "      try:\n",
    "        return 0.5*_dict_ratio_genre_played_train[x]+0.5*_dict_ratio_genre_played_test[x]\n",
    "      except KeyError:\n",
    "        return _dict_ratio_genre_played_test[x]\n",
    "\n",
    "train['ratio_genre_played'] = train['genre_ids'].apply(ratio_genre_played_train).astype(np.float64)\n",
    "test['ratio_genre_played'] = test['genre_ids'].apply(ratio_genre_played_test).astype(np.float64)\n",
    "\n",
    "############\n",
    "_dict_ratio_lyricist_played_train = {k: v for k, \n",
    "                v in ( train['lyricist'].value_counts()/len(train['lyricist']) ).iteritems() }\n",
    "_dict_ratio_lyricist_played_test = {k: v for k, \n",
    "                v in ( test['lyricist'].value_counts()/len(test['lyricist']) ).iteritems() }\n",
    "def ratio_lyricist_played_train(x):\n",
    "     if x==\"no_lyricist\" or x==\"佚名\":\n",
    "         return 0.5/(lentrain)+0.5/lentest\n",
    "     else:\n",
    "        try:\n",
    "          return 0.5*_dict_ratio_lyricist_played_train[x]+0.5*_dict_ratio_lyricist_played_test[x]\n",
    "        except KeyError:\n",
    "          return _dict_ratio_lyricist_played_train[x]\n",
    "\n",
    "def ratio_lyricist_played_test(x):\n",
    "    if x==\"no_lyricist\" or x==\"佚名\":\n",
    "         return 0.5/(lentrain)+0.5/lentest\n",
    "    else:\n",
    "      try:\n",
    "        return 0.5*_dict_ratio_lyricist_played_train[x]+0.5*_dict_ratio_lyricist_played_test[x]\n",
    "      except KeyError:\n",
    "        return _dict_ratio_lyricist_played_test[x]\n",
    "\n",
    "train['ratio_lyricist_played'] = train['lyricist'].apply(ratio_lyricist_played_train).astype(np.float64)\n",
    "test['ratio_lyricist_played'] = test['lyricist'].apply(ratio_lyricist_played_test).astype(np.float64)\n",
    "print(\"done\")"
   ]
  },
  {
   "cell_type": "markdown",
   "metadata": {},
   "source": [
    "train['ratio_artist_played'].corr(train['target']) #upper prop"
   ]
  },
  {
   "cell_type": "markdown",
   "metadata": {},
   "source": [
    "test['ratio_artist_played'].corr(test['target'])"
   ]
  },
  {
   "cell_type": "markdown",
   "metadata": {},
   "source": [
    "train['ratio_lyricist_played'].corr(train['target'])"
   ]
  },
  {
   "cell_type": "markdown",
   "metadata": {},
   "source": [
    "test['ratio_lyricist_played'].corr(train['target'])"
   ]
  },
  {
   "cell_type": "markdown",
   "metadata": {},
   "source": [
    "more accurate proportion??0.685\n",
    "more accurate upper proportion??0.6912\n",
    "full prop 0.15890015868577767 0.12733285449018938\n",
    "upper prop:0.15888965375085956 0.14471178091031606\n",
    "lower prop:0.15882986539655755 0.12711725891466466\n",
    "0.5:0.16163555201226557  0.15029669049335478\n",
    "0.25:0.16089269456916425 0.14948164729470462\n",
    "artist:0.048574596817506109 0.041379147614896923\n",
    "count_art:0.052927608864952173 0.00054284957540948219\n",
    "artist na:0.077896916772339647 0.056191044723173114\n",
    "artist 1: almost same, a little bit good"
   ]
  },
  {
   "cell_type": "markdown",
   "metadata": {},
   "source": [
    "train['user_artist']=(train['msno'].astype(object)+train['artist_name'].astype(object)).astype('category')\n",
    "test['user_artist']=(test['msno'].astype(object)+test['artist_name'].astype(object)).astype('category')"
   ]
  },
  {
   "cell_type": "markdown",
   "metadata": {},
   "source": [
    "train['user_genre']=(train['msno'].astype(object)+train['genre_ids'].astype(object)).astype('category')\n",
    "test['user_genre']=(test['msno'].astype(object)+test['genre_ids'].astype(object)).astype('category')"
   ]
  },
  {
   "cell_type": "markdown",
   "metadata": {},
   "source": [
    "# number of times the artist has been played\n",
    "_dict_count_artist_played_train = {k: v for k, v in train['artist_name'].value_counts().iteritems()}\n",
    "_dict_count_artist_played_test = {k: v for k, v in test['artist_name'].value_counts().iteritems()}\n",
    "def count_artist_played(x):\n",
    "    try:\n",
    "        return _dict_count_artist_played_train[x]\n",
    "    except KeyError:\n",
    "        try:\n",
    "            return _dict_count_artist_played_test[x]\n",
    "        except KeyError:\n",
    "            return 0\n",
    "\n",
    "train['count_artist_played'] = train['artist_name'].apply(count_artist_played).astype(np.int64)\n",
    "test['count_artist_played'] = test['artist_name'].apply(count_artist_played).astype(np.int64)\n",
    "\n",
    "\n",
    "print(\"Done adding features\")"
   ]
  },
  {
   "cell_type": "markdown",
   "metadata": {},
   "source": [
    "dict_num_songs_of_artist={k: v for k, v in (songs['artist_name'].value_counts()/len(songs['artist_name'])).iteritems()}\n",
    "def num_songs_of_artist(x):\n",
    "    if x==\"no_artist\":\n",
    "        return 0\n",
    "    else:\n",
    "        try:\n",
    "          return dict_num_songs_of_artist[x]\n",
    "        except KeyError:\n",
    "          return 0\n",
    "train['num_songs_of_artist'] = train['artist_name'].apply(num_songs_of_artist).astype(np.float64)\n",
    "test['num_songs_of_artist'] = test['artist_name'].apply(num_songs_of_artist).astype(np.float64)\n",
    "print(\"done\")"
   ]
  },
  {
   "cell_type": "code",
   "execution_count": null,
   "metadata": {},
   "outputs": [],
   "source": [
    "train.drop(['uni_art', 'artist_habit','user_play'], axis = 1, inplace = True)\n",
    "test.drop(['uni_art', 'artist_habit','user_play'], axis = 1, inplace = True)"
   ]
  },
  {
   "cell_type": "code",
   "execution_count": 9,
   "metadata": {},
   "outputs": [],
   "source": [
    "a=pd.concat([train,test]).groupby(\"msno\",as_index=False).agg({\"artist_name\":{\"uni_art\":pd.Series.nunique, #a is for user's play info\n",
    "                                                                           \"user_play\":\"count\"}})\n",
    "a.columns=a.columns.droplevel(level=0)\n",
    "a=a.rename(columns={\"\":\"msno\"})\n",
    "train=train.merge(a, on=\"msno\", how=\"left\")\n",
    "test=test.merge(a, on=\"msno\", how=\"left\")\n",
    "train[\"artist_habit\"]=train[\"uni_art\"]/train[\"user_play\"]\n",
    "test[\"artist_habit\"]=test[\"uni_art\"]/test[\"user_play\"]"
   ]
  },
  {
   "cell_type": "code",
   "execution_count": 10,
   "metadata": {},
   "outputs": [],
   "source": [
    "user_aritst_count=pd.concat([train,test]).groupby([\"msno\",\"artist_name\"],as_index=False).agg({\"song_id\":{\"user_artist_count\":\"count\"}})"
   ]
  },
  {
   "cell_type": "code",
   "execution_count": 11,
   "metadata": {},
   "outputs": [],
   "source": [
    "user_aritst_count.columns=user_aritst_count.columns.droplevel(level=0) # user_aritst_count is used again?"
   ]
  },
  {
   "cell_type": "code",
   "execution_count": 12,
   "metadata": {},
   "outputs": [],
   "source": [
    "user_aritst_count.columns.values[0]=\"msno\"   \n",
    "user_aritst_count.columns.values[1]=\"artist_name\""
   ]
  },
  {
   "cell_type": "code",
   "execution_count": 13,
   "metadata": {
    "collapsed": true
   },
   "outputs": [],
   "source": [
    "train=train.merge(user_aritst_count, on=[\"msno\",\"artist_name\"], how=\"left\")\n",
    "test=test.merge(user_aritst_count, on=[\"msno\", \"artist_name\"],how=\"left\")\n",
    "train[\"coolartist_like\"]=train[\"user_artist_count\"]/train[\"user_play\"]\n",
    "test[\"coolartist_like\"]=test[\"user_artist_count\"]/test[\"user_play\"]"
   ]
  },
  {
   "cell_type": "code",
   "execution_count": 14,
   "metadata": {},
   "outputs": [],
   "source": [
    "user_language_count=pd.concat([train,test]).groupby([\"msno\",\"language\"],as_index=False).agg({\"song_id\":{\"cooluser_language_count\":\"count\"}})"
   ]
  },
  {
   "cell_type": "code",
   "execution_count": 15,
   "metadata": {
    "collapsed": true
   },
   "outputs": [],
   "source": [
    "user_language_count.columns=user_language_count.columns.droplevel(level=0)\n",
    "user_language_count.columns.values[0]=\"msno\"\n",
    "user_language_count.columns.values[1]=\"language\""
   ]
  },
  {
   "cell_type": "code",
   "execution_count": 16,
   "metadata": {},
   "outputs": [],
   "source": [
    "train=train.merge(user_language_count, on=[\"msno\",\"language\"], how=\"left\")\n",
    "test=test.merge(user_language_count, on=[\"msno\", \"language\"],how=\"left\")\n",
    "train[\"coollangu_like\"]=train[\"cooluser_language_count\"]/train[\"user_play\"]\n",
    "test[\"coollangu_like\"]=test[\"cooluser_language_count\"]/test[\"user_play\"]"
   ]
  },
  {
   "cell_type": "code",
   "execution_count": 17,
   "metadata": {},
   "outputs": [],
   "source": [
    "unique_genre=pd.concat([train,test]).groupby(\"msno\",\n",
    "            as_index=False).agg({\"genre_ids\":{\"cooluni_genre\":pd.Series.nunique}})\n",
    "unique_genre.columns=unique_genre.columns.droplevel(level=0)\n",
    "unique_genre=unique_genre.rename(columns={\"\":\"msno\"})\n",
    "train=train.merge(unique_genre, on=\"msno\", how=\"left\")\n",
    "test=test.merge(unique_genre, on=\"msno\", how=\"left\")\n",
    "train[\"coolgenre_habit\"]=train[\"cooluni_genre\"]/train[\"user_play\"]\n",
    "test[\"coolgenre_habit\"]=test[\"cooluni_genre\"]/test[\"user_play\"]"
   ]
  },
  {
   "cell_type": "markdown",
   "metadata": {},
   "source": []
  },
  {
   "cell_type": "code",
   "execution_count": 18,
   "metadata": {},
   "outputs": [],
   "source": [
    "user_genre_count=pd.concat([train,test]).groupby([\"msno\",\n",
    "\"genre_ids\"],as_index=False).agg({\"song_id\":{\"cooluser_genre_count\":\"count\"}})\n",
    "user_genre_count.columns=user_genre_count.columns.droplevel(level=0)\n",
    "user_genre_count.columns.values[0]=\"msno\"\n",
    "user_genre_count.columns.values[1]=\"genre_ids\"\n",
    "train=train.merge(user_genre_count, on=[\"msno\",\"genre_ids\"], how=\"left\")\n",
    "test=test.merge(user_genre_count, on=[\"msno\", \"genre_ids\"],how=\"left\")\n",
    "train[\"coolgenre_like\"]=train[\"cooluser_genre_count\"]/train[\"user_play\"]\n",
    "test[\"coolgenre_like\"]=test[\"cooluser_genre_count\"]/test[\"user_play\"]"
   ]
  },
  {
   "cell_type": "code",
   "execution_count": 19,
   "metadata": {},
   "outputs": [],
   "source": [
    "user_lyri_count=pd.concat([train,test]).groupby([\"msno\",\n",
    "\"lyricist\"],as_index=False).agg({\"song_id\":{\"cooluser_lyri_count\":\"count\"}})\n",
    "user_lyri_count.columns=user_lyri_count.columns.droplevel(level=0)\n",
    "user_lyri_count.columns.values[0]=\"msno\"\n",
    "user_lyri_count.columns.values[1]=\"lyricist\"\n",
    "train=train.merge(user_lyri_count, on=[\"msno\",\"lyricist\"], how=\"left\")\n",
    "test=test.merge(user_lyri_count, on=[\"msno\", \"lyricist\"],how=\"left\")\n",
    "train[\"coollyri_like\"]=train[\"cooluser_lyri_count\"]/train[\"user_play\"]\n",
    "test[\"coollyri_like\"]=test[\"cooluser_lyri_count\"]/test[\"user_play\"]"
   ]
  },
  {
   "cell_type": "code",
   "execution_count": 20,
   "metadata": {},
   "outputs": [],
   "source": [
    "user_compo_count=pd.concat([train,test]).groupby([\"msno\",\n",
    "\"composer\"],as_index=False).agg({\"song_id\":{\"cooluser_compo_count\":\"count\"}})\n",
    "user_compo_count.columns=user_compo_count.columns.droplevel(level=0)\n",
    "user_compo_count.columns.values[0]=\"msno\"\n",
    "user_compo_count.columns.values[1]=\"composer\"\n",
    "train=train.merge(user_compo_count, on=[\"msno\",\"composer\"], how=\"left\")\n",
    "test=test.merge(user_compo_count, on=[\"msno\", \"composer\"],how=\"left\")\n",
    "train[\"coolcompo_like\"]=train[\"cooluser_compo_count\"]/train[\"user_play\"]\n",
    "test[\"coolcompo_like\"]=test[\"cooluser_compo_count\"]/test[\"user_play\"]"
   ]
  },
  {
   "cell_type": "code",
   "execution_count": 21,
   "metadata": {},
   "outputs": [],
   "source": [
    "user_leng_count=pd.concat([train,test]).groupby([\"msno\"],\n",
    "    as_index=False).agg({\"song_length\":{\"cooluser_length_mean\":\"mean\"}})"
   ]
  },
  {
   "cell_type": "code",
   "execution_count": null,
   "metadata": {},
   "outputs": [],
   "source": [
    "user_leng_count.columns=user_leng_count.columns.droplevel(level=0)\n",
    "user_leng_count.columns.values[0]=\"msno\"\n",
    "train=train.merge(user_leng_count, on=\"msno\", how=\"left\")\n",
    "test=test.merge(user_leng_count, on=\"msno\",how=\"left\")\n",
    "train[\"coolleng_like\"]=train[\"song_length\"]/train[\"cooluser_length_mean\"]\n",
    "test[\"coolleng_like\"]=test[\"song_length\"]/test[\"cooluser_length_mean\"]"
   ]
  },
  {
   "cell_type": "code",
   "execution_count": null,
   "metadata": {},
   "outputs": [],
   "source": [
    "user_year_count=pd.concat([train,test]).groupby([\"msno\"],\n",
    "    as_index=False).agg({\"song_year\":{\"cooluser_year_mean\":pd.Series.mean}})"
   ]
  },
  {
   "cell_type": "code",
   "execution_count": 24,
   "metadata": {},
   "outputs": [],
   "source": [
    "user_year_count.columns=user_year_count.columns.droplevel(level=0)\n",
    "user_year_count.columns.values[0]=\"msno\"\n",
    "train=train.merge(user_year_count, on=\"msno\", how=\"left\")\n",
    "test=test.merge(user_year_count, on=\"msno\",how=\"left\")\n",
    "train[\"coolyear_like\"]=train[\"song_year\"]-train[\"cooluser_year_mean\"]\n",
    "test[\"coolyear_like\"]=test[\"song_year\"]-test[\"cooluser_year_mean\"]"
   ]
  },
  {
   "cell_type": "code",
   "execution_count": 24,
   "metadata": {},
   "outputs": [],
   "source": [
    "def convert(x):\n",
    "    if x==0:\n",
    "        return np.nan\n",
    "    else:\n",
    "        return x\n",
    "train[\"bd2\"]=train[\"bd\"].apply(convert).astype(np.float64)\n",
    "test[\"bd2\"]=test[\"bd\"].apply(convert).astype(np.float64)"
   ]
  },
  {
   "cell_type": "code",
   "execution_count": 25,
   "metadata": {},
   "outputs": [
    {
     "data": {
      "text/plain": [
       "587"
      ]
     },
     "execution_count": 25,
     "metadata": {},
     "output_type": "execute_result"
    }
   ],
   "source": [
    "gc.collect()"
   ]
  },
  {
   "cell_type": "code",
   "execution_count": 26,
   "metadata": {
    "collapsed": true
   },
   "outputs": [],
   "source": [
    "song_bd_mean=pd.concat([train,test]).groupby([\"song_id\"],\n",
    "    as_index=False).agg({\"bd2\":{\"coolsong_bd_mean\":pd.Series.mean},\n",
    "                         \"msno\":{\"coolsong_play\":\"count\"}})"
   ]
  },
  {
   "cell_type": "code",
   "execution_count": 27,
   "metadata": {},
   "outputs": [
    {
     "data": {
      "text/plain": [
       "song_id                       object\nmsno     coolsong_play         int64\nbd2      coolsong_bd_mean    float64\ndtype: object"
      ]
     },
     "execution_count": 27,
     "metadata": {},
     "output_type": "execute_result"
    }
   ],
   "source": [
    "song_bd_mean.dtypes"
   ]
  },
  {
   "cell_type": "code",
   "execution_count": 28,
   "metadata": {},
   "outputs": [],
   "source": [
    "song_bd_mean.columns=song_bd_mean.columns.droplevel(level=0)\n",
    "song_bd_mean.columns.values[0]=\"song_id\"\n",
    "train=train.merge(song_bd_mean, on=\"song_id\", how=\"left\")\n",
    "test=test.merge(song_bd_mean, on=\"song_id\",how=\"left\")\n",
    "train[\"coolbd_like\"]=train[\"bd2\"]-train[\"coolsong_bd_mean\"]\n",
    "test[\"coolbd_like\"]=test[\"bd2\"]-test[\"coolsong_bd_mean\"]"
   ]
  },
  {
   "cell_type": "code",
   "execution_count": 42,
   "metadata": {},
   "outputs": [],
   "source": [
    "song_gender_count=pd.concat([train,test]).groupby([\"song_id\",\n",
    "\"gender\"],as_index=False).agg({\"msno\":{\"coolsong_gender_count\":\"count\"}})\n",
    "song_gender_count.columns=song_gender_count.columns.droplevel(level=0)\n",
    "song_gender_count.columns.values[0]=\"song_id\"\n",
    "song_gender_count.columns.values[1]=\"gender\"\n",
    "train=train.merge(song_gender_count, on=[\"song_id\",\"gender\"], how=\"left\")\n",
    "test=test.merge(song_gender_count, on=[\"song_id\", \"gender\"],how=\"left\")\n",
    "train[\"coolgender_like\"]=train[\"coolsong_gender_count\"]/train[\"coolsong_play\"]\n",
    "test[\"coolgender_like\"]=test[\"coolsong_gender_count\"]/test[\"coolsong_play\"]"
   ]
  },
  {
   "cell_type": "code",
   "execution_count": 1,
   "metadata": {
    "collapsed": true
   },
   "outputs": [
    {
     "ename": "NameError",
     "evalue": "name 'song_bd_mean' is not defined",
     "traceback": [
      "\u001b[0;31m---------------------------------------------------------------------------\u001b[0m",
      "\u001b[0;31mNameError\u001b[0m                                 Traceback (most recent call last)",
      "\u001b[0;32m<ipython-input-1-5b985df8f9e5>\u001b[0m in \u001b[0;36m<module>\u001b[0;34m()\u001b[0m\n\u001b[0;32m----> 1\u001b[0;31m \u001b[0mprint\u001b[0m\u001b[0;34m(\u001b[0m\u001b[0msong_bd_mean\u001b[0m\u001b[0;34m)\u001b[0m\u001b[0;34m\u001b[0m\u001b[0m\n\u001b[0m",
      "\u001b[0;31mNameError\u001b[0m: name 'song_bd_mean' is not defined"
     ],
     "output_type": "error"
    }
   ],
   "source": [
    "print(song_bd_mean)"
   ]
  },
  {
   "cell_type": "code",
   "execution_count": 43,
   "metadata": {},
   "outputs": [],
   "source": [
    "user_info=pd.read_csv('/Users/yzh/Downloads/user_logs_final.csv')"
   ]
  },
  {
   "cell_type": "code",
   "execution_count": 45,
   "metadata": {
    "collapsed": false
   },
   "outputs": [],
   "source": [
    "train = train.merge(user_info, on='msno', how='left')\n",
    "test = test.merge(user_info, on='msno', how='left')"
   ]
  },
  {
   "cell_type": "code",
   "execution_count": 51,
   "metadata": {},
   "outputs": [
    {
     "data": {
      "text/plain": [
       "0"
      ]
     },
     "execution_count": 51,
     "metadata": {},
     "output_type": "execute_result"
    }
   ],
   "source": [
    "gc.collect()"
   ]
  },
  {
   "cell_type": "markdown",
   "metadata": {},
   "source": [
    "train['user_habit']=(train['num_25']+train['num_50']+train['num_985']+train['num_100']+train['days_listened']+train['total_secs'])/5\n",
    "test['user_habit']=(test['num_25']+test['num_50']+test['num_985']+test['num_100']+test['days_listened']+test['total_secs'])/5"
   ]
  },
  {
   "cell_type": "code",
   "execution_count": 48,
   "metadata": {
    "collapsed": true
   },
   "outputs": [
    {
     "name": "stdout",
     "output_type": "stream",
     "text": [
      "Train test and validation sets\n"
     ]
    },
    {
     "name": "stdout",
     "output_type": "stream",
     "text": [
      "Processed data...\n"
     ]
    }
   ],
   "source": [
    "print (\"Train test and validation sets\")\n",
    "for col in train.columns:\n",
    "    if train[col].dtype == object:\n",
    "        train[col] = train[col].astype('category')\n",
    "        test[col] = test[col].astype('category')\n",
    "\n",
    "\n",
    "X_train = train.drop(['target','bd'], axis=1)\n",
    "y_train = train['target'].values\n",
    "X_valid = test.drop(['target','bd'], axis=1)\n",
    "y_valid = test['target'].values\n",
    "print('Processed data...')"
   ]
  },
  {
   "cell_type": "markdown",
   "metadata": {},
   "source": [
    "for col in train.columns:\n",
    "    if train[col].dtype == object:\n",
    "        train[col] = train[col].astype('category')\n",
    "for col in test.columns:\n",
    "    if test[col].dtype == object:\n",
    "        test[col] = test[col].astype('category')"
   ]
  },
  {
   "cell_type": "code",
   "execution_count": 50,
   "metadata": {},
   "outputs": [],
   "source": [
    "d_train_final = lgb.Dataset(X_train, y_train,max_bin=256)\n",
    "watchlist_final = lgb.Dataset(X_valid, y_valid,max_bin=256)"
   ]
  },
  {
   "cell_type": "code",
   "execution_count": 52,
   "metadata": {
    "collapsed": true
   },
   "outputs": [
    {
     "name": "stdout",
     "output_type": "stream",
     "text": [
      "start modelx\n"
     ]
    },
    {
     "name": "stderr",
     "output_type": "stream",
     "text": [
      "/Library/Frameworks/Python.framework/Versions/3.5/lib/python3.5/site-packages/lightgbm/engine.py:99: UserWarning: Found `num_rounds` in params. Will use it instead of argument\n  warnings.warn(\"Found `{}` in params. Will use it instead of argument\".format(alias))\n"
     ]
    },
    {
     "name": "stderr",
     "output_type": "stream",
     "text": [
      "/Library/Frameworks/Python.framework/Versions/3.5/lib/python3.5/site-packages/lightgbm/basic.py:648: LGBMDeprecationWarning: The `max_bin` parameter is deprecated and will be removed in 2.0.12 version. Please use `params` to pass this parameter.\n  'Please use `params` to pass this parameter.', LGBMDeprecationWarning)\n"
     ]
    },
    {
     "name": "stderr",
     "output_type": "stream",
     "text": [
      "/Library/Frameworks/Python.framework/Versions/3.5/lib/python3.5/site-packages/lightgbm/basic.py:642: UserWarning: max_bin keyword has been found in `params` and will be ignored. Please use max_bin argument of the Dataset constructor to pass this parameter.\n  'Please use {0} argument of the Dataset constructor to pass this parameter.'.format(key))\n/Library/Frameworks/Python.framework/Versions/3.5/lib/python3.5/site-packages/lightgbm/basic.py:671: UserWarning: categorical_feature in param dict is overrided.\n  warnings.warn('categorical_feature in param dict is overrided.')\n"
     ]
    },
    {
     "name": "stdout",
     "output_type": "stream",
     "text": [
      "[3]\tvalid_0's auc: 0.678489\n"
     ]
    },
    {
     "name": "stdout",
     "output_type": "stream",
     "text": [
      "[6]\tvalid_0's auc: 0.688866\n"
     ]
    },
    {
     "name": "stdout",
     "output_type": "stream",
     "text": [
      "[9]\tvalid_0's auc: 0.693416\n"
     ]
    },
    {
     "name": "stdout",
     "output_type": "stream",
     "text": [
      "[12]\tvalid_0's auc: 0.696918\n"
     ]
    },
    {
     "name": "stdout",
     "output_type": "stream",
     "text": [
      "[15]\tvalid_0's auc: 0.700688\n"
     ]
    },
    {
     "name": "stdout",
     "output_type": "stream",
     "text": [
      "[18]\tvalid_0's auc: 0.703458\n"
     ]
    },
    {
     "name": "stdout",
     "output_type": "stream",
     "text": [
      "[21]\tvalid_0's auc: 0.70523\n"
     ]
    },
    {
     "name": "stdout",
     "output_type": "stream",
     "text": [
      "[24]\tvalid_0's auc: 0.706287\n"
     ]
    },
    {
     "name": "stdout",
     "output_type": "stream",
     "text": [
      "[27]\tvalid_0's auc: 0.70738\n"
     ]
    },
    {
     "name": "stdout",
     "output_type": "stream",
     "text": [
      "[30]\tvalid_0's auc: 0.707419\n"
     ]
    },
    {
     "name": "stdout",
     "output_type": "stream",
     "text": [
      "[33]\tvalid_0's auc: 0.70798\n"
     ]
    },
    {
     "name": "stdout",
     "output_type": "stream",
     "text": [
      "[36]\tvalid_0's auc: 0.708035\n"
     ]
    },
    {
     "name": "stdout",
     "output_type": "stream",
     "text": [
      "[39]\tvalid_0's auc: 0.708384\n"
     ]
    },
    {
     "name": "stdout",
     "output_type": "stream",
     "text": [
      "[42]\tvalid_0's auc: 0.708784\n"
     ]
    },
    {
     "name": "stdout",
     "output_type": "stream",
     "text": [
      "[45]\tvalid_0's auc: 0.70889\n"
     ]
    },
    {
     "name": "stdout",
     "output_type": "stream",
     "text": [
      "[48]\tvalid_0's auc: 0.709168\n"
     ]
    },
    {
     "name": "stdout",
     "output_type": "stream",
     "text": [
      "[51]\tvalid_0's auc: 0.709244\n"
     ]
    },
    {
     "name": "stdout",
     "output_type": "stream",
     "text": [
      "[54]\tvalid_0's auc: 0.709068\n"
     ]
    },
    {
     "name": "stdout",
     "output_type": "stream",
     "text": [
      "[57]\tvalid_0's auc: 0.709472\n"
     ]
    },
    {
     "name": "stdout",
     "output_type": "stream",
     "text": [
      "[60]\tvalid_0's auc: 0.709602\n"
     ]
    },
    {
     "name": "stdout",
     "output_type": "stream",
     "text": [
      "[63]\tvalid_0's auc: 0.709816\n"
     ]
    },
    {
     "name": "stdout",
     "output_type": "stream",
     "text": [
      "[66]\tvalid_0's auc: 0.709901\n"
     ]
    },
    {
     "name": "stdout",
     "output_type": "stream",
     "text": [
      "[69]\tvalid_0's auc: 0.70999\n"
     ]
    },
    {
     "name": "stdout",
     "output_type": "stream",
     "text": [
      "[72]\tvalid_0's auc: 0.710161\n"
     ]
    },
    {
     "name": "stdout",
     "output_type": "stream",
     "text": [
      "[75]\tvalid_0's auc: 0.710269\n"
     ]
    },
    {
     "name": "stdout",
     "output_type": "stream",
     "text": [
      "[78]\tvalid_0's auc: 0.710253\n"
     ]
    },
    {
     "name": "stdout",
     "output_type": "stream",
     "text": [
      "[81]\tvalid_0's auc: 0.710191\n"
     ]
    },
    {
     "name": "stdout",
     "output_type": "stream",
     "text": [
      "[84]\tvalid_0's auc: 0.710426\n"
     ]
    },
    {
     "name": "stdout",
     "output_type": "stream",
     "text": [
      "[87]\tvalid_0's auc: 0.710375\n"
     ]
    },
    {
     "name": "stdout",
     "output_type": "stream",
     "text": [
      "[90]\tvalid_0's auc: 0.710444\n"
     ]
    },
    {
     "name": "stdout",
     "output_type": "stream",
     "text": [
      "[93]\tvalid_0's auc: 0.710437\n"
     ]
    },
    {
     "name": "stdout",
     "output_type": "stream",
     "text": [
      "[96]\tvalid_0's auc: 0.71055\n"
     ]
    },
    {
     "name": "stdout",
     "output_type": "stream",
     "text": [
      "[99]\tvalid_0's auc: 0.710347\n"
     ]
    },
    {
     "name": "stdout",
     "output_type": "stream",
     "text": [
      "[102]\tvalid_0's auc: 0.710242\n"
     ]
    },
    {
     "name": "stdout",
     "output_type": "stream",
     "text": [
      "[105]\tvalid_0's auc: 0.710265\n"
     ]
    },
    {
     "name": "stdout",
     "output_type": "stream",
     "text": [
      "[108]\tvalid_0's auc: 0.710208\n"
     ]
    },
    {
     "name": "stdout",
     "output_type": "stream",
     "text": [
      "[111]\tvalid_0's auc: 0.710361\n"
     ]
    },
    {
     "name": "stdout",
     "output_type": "stream",
     "text": [
      "[114]\tvalid_0's auc: 0.710444\n"
     ]
    },
    {
     "name": "stdout",
     "output_type": "stream",
     "text": [
      "[117]\tvalid_0's auc: 0.710425\n"
     ]
    },
    {
     "name": "stdout",
     "output_type": "stream",
     "text": [
      "[120]\tvalid_0's auc: 0.710448\n"
     ]
    },
    {
     "name": "stdout",
     "output_type": "stream",
     "text": [
      "[123]\tvalid_0's auc: 0.710497\n"
     ]
    },
    {
     "name": "stdout",
     "output_type": "stream",
     "text": [
      "[126]\tvalid_0's auc: 0.710539\n"
     ]
    },
    {
     "name": "stdout",
     "output_type": "stream",
     "text": [
      "[129]\tvalid_0's auc: 0.7104\n"
     ]
    },
    {
     "name": "stdout",
     "output_type": "stream",
     "text": [
      "[132]\tvalid_0's auc: 0.710401\n"
     ]
    },
    {
     "name": "stderr",
     "output_type": "stream",
     "text": [
      "\nKeyboardInterrupt\n\n"
     ]
    }
   ],
   "source": [
    "print(\"start modelx\")\n",
    "params = {\n",
    "        'objective': 'binary',\n",
    "        'metric': 'binary_logloss',\n",
    "        'boosting': 'dart',\n",
    "        'learning_rate': 0.3 ,\n",
    "        'verbose': 0,\n",
    "        'num_leaves':300,\n",
    "        'num_rounds': 200,\n",
    "        'metric' : 'auc'\n",
    "    }\n",
    "\n",
    "model_f2 = lgb.train(params, train_set=d_train_final,  valid_sets=watchlist_final, verbose_eval=3)"
   ]
  },
  {
   "cell_type": "markdown",
   "metadata": {},
   "source": [
    "# no expiration_year: round90 0.682588 not good\n",
    "# 300 leaves dart, no deal with overfitting,no source_system_tab, round84: 0.683639\n",
    "# 300 leaves dart, no deal with overfitting,ratio_song_played: round 54: 0.690083(LB public:0.68982)\n",
    "# 300 leaves dart, no deal with overfitting,ratio_song_played, test0.75 : round 111: 0.689802(not stable)\n",
    "# 300 leaves dart, no deal with overfitting,ratio_song_played, test0.75, train 0.75 round 51: 0.691717\n",
    "# 300 leaves dart, no deal with overfitting,ratio_song_played,  train 0.75 round51 :0.692153\n",
    "# 300 leaves dart, no deal with overfitting, ratio: composer,artist,song, test0.75, train 0.75 round90: 0.691855\n",
    "# 300 leaves dart, no deal with overfitting, ratio: compo,artist,song,genre,lyri test0.75, train 0.75 round99: 0.691943  ?[99]0.691461\n",
    "?directly put na: result just so so about 0.6918\n",
    "?deal with missing value of some things like  \"no_artist..\", 0.69\n",
    "?deal with missing value of some things like  \"no_artist..\" and add num_song_artist:not very good\n",
    "?delete some online features, 0.69\n",
    "300 leaves dart, no deal with overfitting,ratio: cleaned artist,song,0.6912\n",
    "300 leaves dart, no deal with overfitting,ratio: song, no artist 0.6911\n",
    "300 leaves dart, no deal with overfitting,ratio: song, ratio_artist not good\n",
    "\n",
    "0.5:\n",
    "300 leaves dart, no deal with overfitting,ratio: song, ratio_artist 99 0.6922\n",
    "300 leaves dart, no deal with overfitting,ratio: song,51: 0.692179   [111]0.692341  LB:0.6916\n",
    "+user_artist: [96]\tvalid_0's auc: 0.693059 LB 0.69110\n",
    "+user_artist -artist_name   direct LB, round96: 0.69119\n",
    "+user_artist,user_genre [111]\t0.6927\n",
    "+user_artist,user_genre -genre_ids  [84]0.693366 LB.069057  LB:0.69201(use 250leave 0.1learn 396round)\n",
    "+user_artist,user_genre -genre_ids -artist[90]\tvalid_0's auc: 0.692811\n",
    "+artist_gender:not  good   [111]\tvalid_0's auc: 0.692113\n",
    "+churn  maybe[84]\tvalid_0's auc: 0.695015 LB:0.69248\n",
    "+total_secs  [96]\tvalid_0's auc: 0.694918\n",
    "+average churn [102]\tstop valid_0's auc: 0.69379 not good\n",
    "+churn,song_bd [81]\tstopvalid_0's auc: 0.694346 not good\n",
    "250leaves rate0.1 round at [402]\tvalid_0's auc: 0.695759\n",
    "+churn, country: [96]\tvalid_0's auc: 0.694806 \n",
    "+total_secs  \tleave250 rate0.1 deal with overfitting [1668] 0.693562    not good     bin500 [75]\tvalid_0's auc: 0.69521    bin1500 stop at[75]\tvalid_0's auc: 0.694869\n",
    "+total_secs +simple artist_habit[150]\tvalid_0's auc: 0.695732\n",
    "+total_secs +strict artist_habit [159]\tvalid_0's auc: 0.696162"
   ]
  },
  {
   "cell_type": "code",
   "execution_count": null,
   "metadata": {},
   "outputs": [],
   "source": []
  },
  {
   "cell_type": "code",
   "execution_count": 55,
   "metadata": {
    "collapsed": true
   },
   "outputs": [
    {
     "data": {
      "text/html": [
       "<div>\n",
       "<table border=\"1\" class=\"dataframe\">\n",
       "  <thead>\n",
       "    <tr style=\"text-align: right;\">\n",
       "      <th></th>\n",
       "      <th>feature</th>\n",
       "      <th>gain</th>\n",
       "      <th>split</th>\n",
       "    </tr>\n",
       "  </thead>\n",
       "  <tbody>\n",
       "    <tr>\n",
       "      <th>0</th>\n",
       "      <td>msno</td>\n",
       "      <td>60.297363</td>\n",
       "      <td>33091</td>\n",
       "    </tr>\n",
       "    <tr>\n",
       "      <th>4</th>\n",
       "      <td>source_type</td>\n",
       "      <td>11.704171</td>\n",
       "      <td>280</td>\n",
       "    </tr>\n",
       "    <tr>\n",
       "      <th>34</th>\n",
       "      <td>ratio_song_played</td>\n",
       "      <td>7.232598</td>\n",
       "      <td>583</td>\n",
       "    </tr>\n",
       "    <tr>\n",
       "      <th>7</th>\n",
       "      <td>artist_name</td>\n",
       "      <td>5.200464</td>\n",
       "      <td>3607</td>\n",
       "    </tr>\n",
       "    <tr>\n",
       "      <th>1</th>\n",
       "      <td>song_id</td>\n",
       "      <td>4.702336</td>\n",
       "      <td>3594</td>\n",
       "    </tr>\n",
       "    <tr>\n",
       "      <th>40</th>\n",
       "      <td>user_artist_count</td>\n",
       "      <td>2.690039</td>\n",
       "      <td>482</td>\n",
       "    </tr>\n",
       "    <tr>\n",
       "      <th>42</th>\n",
       "      <td>cooluser_language_count</td>\n",
       "      <td>1.887774</td>\n",
       "      <td>333</td>\n",
       "    </tr>\n",
       "    <tr>\n",
       "      <th>3</th>\n",
       "      <td>source_screen_name</td>\n",
       "      <td>1.464338</td>\n",
       "      <td>264</td>\n",
       "    </tr>\n",
       "    <tr>\n",
       "      <th>8</th>\n",
       "      <td>composer</td>\n",
       "      <td>1.249942</td>\n",
       "      <td>1217</td>\n",
       "    </tr>\n",
       "    <tr>\n",
       "      <th>2</th>\n",
       "      <td>source_system_tab</td>\n",
       "      <td>0.727190</td>\n",
       "      <td>104</td>\n",
       "    </tr>\n",
       "    <tr>\n",
       "      <th>33</th>\n",
       "      <td>ratio_artist_played</td>\n",
       "      <td>0.406028</td>\n",
       "      <td>180</td>\n",
       "    </tr>\n",
       "    <tr>\n",
       "      <th>37</th>\n",
       "      <td>user_play</td>\n",
       "      <td>0.277033</td>\n",
       "      <td>77</td>\n",
       "    </tr>\n",
       "    <tr>\n",
       "      <th>9</th>\n",
       "      <td>lyricist</td>\n",
       "      <td>0.272155</td>\n",
       "      <td>303</td>\n",
       "    </tr>\n",
       "    <tr>\n",
       "      <th>49</th>\n",
       "      <td>num_100</td>\n",
       "      <td>0.240586</td>\n",
       "      <td>71</td>\n",
       "    </tr>\n",
       "    <tr>\n",
       "      <th>10</th>\n",
       "      <td>language</td>\n",
       "      <td>0.184717</td>\n",
       "      <td>50</td>\n",
       "    </tr>\n",
       "    <tr>\n",
       "      <th>39</th>\n",
       "      <td>artist_habit</td>\n",
       "      <td>0.182222</td>\n",
       "      <td>68</td>\n",
       "    </tr>\n",
       "    <tr>\n",
       "      <th>54</th>\n",
       "      <td>cooluser_year_mean</td>\n",
       "      <td>0.166742</td>\n",
       "      <td>53</td>\n",
       "    </tr>\n",
       "    <tr>\n",
       "      <th>20</th>\n",
       "      <td>expiration_year</td>\n",
       "      <td>0.163835</td>\n",
       "      <td>36</td>\n",
       "    </tr>\n",
       "    <tr>\n",
       "      <th>38</th>\n",
       "      <td>uni_art</td>\n",
       "      <td>0.123286</td>\n",
       "      <td>64</td>\n",
       "    </tr>\n",
       "    <tr>\n",
       "      <th>46</th>\n",
       "      <td>num_25</td>\n",
       "      <td>0.108411</td>\n",
       "      <td>29</td>\n",
       "    </tr>\n",
       "    <tr>\n",
       "      <th>22</th>\n",
       "      <td>song_year</td>\n",
       "      <td>0.101803</td>\n",
       "      <td>34</td>\n",
       "    </tr>\n",
       "    <tr>\n",
       "      <th>6</th>\n",
       "      <td>genre_ids</td>\n",
       "      <td>0.099192</td>\n",
       "      <td>58</td>\n",
       "    </tr>\n",
       "    <tr>\n",
       "      <th>55</th>\n",
       "      <td>coolyear_like</td>\n",
       "      <td>0.078071</td>\n",
       "      <td>40</td>\n",
       "    </tr>\n",
       "    <tr>\n",
       "      <th>43</th>\n",
       "      <td>coollangu_like</td>\n",
       "      <td>0.069230</td>\n",
       "      <td>38</td>\n",
       "    </tr>\n",
       "    <tr>\n",
       "      <th>16</th>\n",
       "      <td>membership_days</td>\n",
       "      <td>0.064854</td>\n",
       "      <td>28</td>\n",
       "    </tr>\n",
       "    <tr>\n",
       "      <th>45</th>\n",
       "      <td>coolgenre_habit</td>\n",
       "      <td>0.060479</td>\n",
       "      <td>21</td>\n",
       "    </tr>\n",
       "    <tr>\n",
       "      <th>51</th>\n",
       "      <td>days_listened</td>\n",
       "      <td>0.053693</td>\n",
       "      <td>19</td>\n",
       "    </tr>\n",
       "    <tr>\n",
       "      <th>17</th>\n",
       "      <td>registration_year</td>\n",
       "      <td>0.039251</td>\n",
       "      <td>17</td>\n",
       "    </tr>\n",
       "    <tr>\n",
       "      <th>50</th>\n",
       "      <td>total_secs</td>\n",
       "      <td>0.038344</td>\n",
       "      <td>15</td>\n",
       "    </tr>\n",
       "    <tr>\n",
       "      <th>41</th>\n",
       "      <td>coolartist_like</td>\n",
       "      <td>0.035340</td>\n",
       "      <td>27</td>\n",
       "    </tr>\n",
       "    <tr>\n",
       "      <th>47</th>\n",
       "      <td>num_50</td>\n",
       "      <td>0.019285</td>\n",
       "      <td>13</td>\n",
       "    </tr>\n",
       "    <tr>\n",
       "      <th>44</th>\n",
       "      <td>cooluni_genre</td>\n",
       "      <td>0.014985</td>\n",
       "      <td>7</td>\n",
       "    </tr>\n",
       "    <tr>\n",
       "      <th>11</th>\n",
       "      <td>city</td>\n",
       "      <td>0.011537</td>\n",
       "      <td>12</td>\n",
       "    </tr>\n",
       "    <tr>\n",
       "      <th>53</th>\n",
       "      <td>coolleng_like</td>\n",
       "      <td>0.006310</td>\n",
       "      <td>6</td>\n",
       "    </tr>\n",
       "    <tr>\n",
       "      <th>18</th>\n",
       "      <td>registration_month</td>\n",
       "      <td>0.005821</td>\n",
       "      <td>6</td>\n",
       "    </tr>\n",
       "    <tr>\n",
       "      <th>14</th>\n",
       "      <td>registered_via</td>\n",
       "      <td>0.005520</td>\n",
       "      <td>6</td>\n",
       "    </tr>\n",
       "    <tr>\n",
       "      <th>12</th>\n",
       "      <td>bd</td>\n",
       "      <td>0.004477</td>\n",
       "      <td>4</td>\n",
       "    </tr>\n",
       "    <tr>\n",
       "      <th>48</th>\n",
       "      <td>num_985</td>\n",
       "      <td>0.003067</td>\n",
       "      <td>4</td>\n",
       "    </tr>\n",
       "    <tr>\n",
       "      <th>52</th>\n",
       "      <td>cooluser_length_mean</td>\n",
       "      <td>0.002589</td>\n",
       "      <td>4</td>\n",
       "    </tr>\n",
       "    <tr>\n",
       "      <th>19</th>\n",
       "      <td>registration_date</td>\n",
       "      <td>0.002517</td>\n",
       "      <td>3</td>\n",
       "    </tr>\n",
       "    <tr>\n",
       "      <th>21</th>\n",
       "      <td>expiration_month</td>\n",
       "      <td>0.001615</td>\n",
       "      <td>1</td>\n",
       "    </tr>\n",
       "    <tr>\n",
       "      <th>15</th>\n",
       "      <td>expiration_date</td>\n",
       "      <td>0.000792</td>\n",
       "      <td>1</td>\n",
       "    </tr>\n",
       "    <tr>\n",
       "      <th>5</th>\n",
       "      <td>song_length</td>\n",
       "      <td>0.000000</td>\n",
       "      <td>0</td>\n",
       "    </tr>\n",
       "    <tr>\n",
       "      <th>23</th>\n",
       "      <td>genre_ids_count</td>\n",
       "      <td>0.000000</td>\n",
       "      <td>0</td>\n",
       "    </tr>\n",
       "    <tr>\n",
       "      <th>13</th>\n",
       "      <td>gender</td>\n",
       "      <td>0.000000</td>\n",
       "      <td>0</td>\n",
       "    </tr>\n",
       "    <tr>\n",
       "      <th>24</th>\n",
       "      <td>lyricists_count</td>\n",
       "      <td>0.000000</td>\n",
       "      <td>0</td>\n",
       "    </tr>\n",
       "    <tr>\n",
       "      <th>36</th>\n",
       "      <td>ratio_lyricist_played</td>\n",
       "      <td>0.000000</td>\n",
       "      <td>0</td>\n",
       "    </tr>\n",
       "    <tr>\n",
       "      <th>35</th>\n",
       "      <td>ratio_genre_played</td>\n",
       "      <td>0.000000</td>\n",
       "      <td>0</td>\n",
       "    </tr>\n",
       "    <tr>\n",
       "      <th>32</th>\n",
       "      <td>ratio_composer_played</td>\n",
       "      <td>0.000000</td>\n",
       "      <td>0</td>\n",
       "    </tr>\n",
       "    <tr>\n",
       "      <th>31</th>\n",
       "      <td>smaller_song</td>\n",
       "      <td>0.000000</td>\n",
       "      <td>0</td>\n",
       "    </tr>\n",
       "    <tr>\n",
       "      <th>30</th>\n",
       "      <td>song_lang_boolean</td>\n",
       "      <td>0.000000</td>\n",
       "      <td>0</td>\n",
       "    </tr>\n",
       "    <tr>\n",
       "      <th>29</th>\n",
       "      <td>artist_composer_lyricist</td>\n",
       "      <td>0.000000</td>\n",
       "      <td>0</td>\n",
       "    </tr>\n",
       "    <tr>\n",
       "      <th>27</th>\n",
       "      <td>artist_count</td>\n",
       "      <td>0.000000</td>\n",
       "      <td>0</td>\n",
       "    </tr>\n",
       "    <tr>\n",
       "      <th>26</th>\n",
       "      <td>is_featured</td>\n",
       "      <td>0.000000</td>\n",
       "      <td>0</td>\n",
       "    </tr>\n",
       "    <tr>\n",
       "      <th>25</th>\n",
       "      <td>composer_count</td>\n",
       "      <td>0.000000</td>\n",
       "      <td>0</td>\n",
       "    </tr>\n",
       "    <tr>\n",
       "      <th>28</th>\n",
       "      <td>artist_composer</td>\n",
       "      <td>0.000000</td>\n",
       "      <td>0</td>\n",
       "    </tr>\n",
       "  </tbody>\n",
       "</table>\n",
       "</div>"
      ],
      "text/plain": [
       "<div>\n",
       "<table border=\"1\" class=\"dataframe\">\n",
       "  <thead>\n",
       "    <tr style=\"text-align: right;\">\n",
       "      <th></th>\n",
       "      <th>feature</th>\n",
       "      <th>gain</th>\n",
       "      <th>split</th>\n",
       "    </tr>\n",
       "  </thead>\n",
       "  <tbody>\n",
       "    <tr>\n",
       "      <th>0</th>\n",
       "      <td>msno</td>\n",
       "      <td>60.297363</td>\n",
       "      <td>33091</td>\n",
       "    </tr>\n",
       "    <tr>\n",
       "      <th>4</th>\n",
       "      <td>source_type</td>\n",
       "      <td>11.704171</td>\n",
       "      <td>280</td>\n",
       "    </tr>\n",
       "    <tr>\n",
       "      <th>34</th>\n",
       "      <td>ratio_song_played</td>\n",
       "      <td>7.232598</td>\n",
       "      <td>583</td>\n",
       "    </tr>\n",
       "    <tr>\n",
       "      <th>7</th>\n",
       "      <td>artist_name</td>\n",
       "      <td>5.200464</td>\n",
       "      <td>3607</td>\n",
       "    </tr>\n",
       "    <tr>\n",
       "      <th>1</th>\n",
       "      <td>song_id</td>\n",
       "      <td>4.702336</td>\n",
       "      <td>3594</td>\n",
       "    </tr>\n",
       "    <tr>\n",
       "      <th>40</th>\n",
       "      <td>user_artist_count</td>\n",
       "      <td>2.690039</td>\n",
       "      <td>482</td>\n",
       "    </tr>\n",
       "    <tr>\n",
       "      <th>42</th>\n",
       "      <td>cooluser_language_count</td>\n",
       "      <td>1.887774</td>\n",
       "      <td>333</td>\n",
       "    </tr>\n",
       "    <tr>\n",
       "      <th>3</th>\n",
       "      <td>source_screen_name</td>\n",
       "      <td>1.464338</td>\n",
       "      <td>264</td>\n",
       "    </tr>\n",
       "    <tr>\n",
       "      <th>8</th>\n",
       "      <td>composer</td>\n",
       "      <td>1.249942</td>\n",
       "      <td>1217</td>\n",
       "    </tr>\n",
       "    <tr>\n",
       "      <th>2</th>\n",
       "      <td>source_system_tab</td>\n",
       "      <td>0.727190</td>\n",
       "      <td>104</td>\n",
       "    </tr>\n",
       "    <tr>\n",
       "      <th>33</th>\n",
       "      <td>ratio_artist_played</td>\n",
       "      <td>0.406028</td>\n",
       "      <td>180</td>\n",
       "    </tr>\n",
       "    <tr>\n",
       "      <th>37</th>\n",
       "      <td>user_play</td>\n",
       "      <td>0.277033</td>\n",
       "      <td>77</td>\n",
       "    </tr>\n",
       "    <tr>\n",
       "      <th>9</th>\n",
       "      <td>lyricist</td>\n",
       "      <td>0.272155</td>\n",
       "      <td>303</td>\n",
       "    </tr>\n",
       "    <tr>\n",
       "      <th>49</th>\n",
       "      <td>num_100</td>\n",
       "      <td>0.240586</td>\n",
       "      <td>71</td>\n",
       "    </tr>\n",
       "    <tr>\n",
       "      <th>10</th>\n",
       "      <td>language</td>\n",
       "      <td>0.184717</td>\n",
       "      <td>50</td>\n",
       "    </tr>\n",
       "    <tr>\n",
       "      <th>39</th>\n",
       "      <td>artist_habit</td>\n",
       "      <td>0.182222</td>\n",
       "      <td>68</td>\n",
       "    </tr>\n",
       "    <tr>\n",
       "      <th>54</th>\n",
       "      <td>cooluser_year_mean</td>\n",
       "      <td>0.166742</td>\n",
       "      <td>53</td>\n",
       "    </tr>\n",
       "    <tr>\n",
       "      <th>20</th>\n",
       "      <td>expiration_year</td>\n",
       "      <td>0.163835</td>\n",
       "      <td>36</td>\n",
       "    </tr>\n",
       "    <tr>\n",
       "      <th>38</th>\n",
       "      <td>uni_art</td>\n",
       "      <td>0.123286</td>\n",
       "      <td>64</td>\n",
       "    </tr>\n",
       "    <tr>\n",
       "      <th>46</th>\n",
       "      <td>num_25</td>\n",
       "      <td>0.108411</td>\n",
       "      <td>29</td>\n",
       "    </tr>\n",
       "    <tr>\n",
       "      <th>22</th>\n",
       "      <td>song_year</td>\n",
       "      <td>0.101803</td>\n",
       "      <td>34</td>\n",
       "    </tr>\n",
       "    <tr>\n",
       "      <th>6</th>\n",
       "      <td>genre_ids</td>\n",
       "      <td>0.099192</td>\n",
       "      <td>58</td>\n",
       "    </tr>\n",
       "    <tr>\n",
       "      <th>55</th>\n",
       "      <td>coolyear_like</td>\n",
       "      <td>0.078071</td>\n",
       "      <td>40</td>\n",
       "    </tr>\n",
       "    <tr>\n",
       "      <th>43</th>\n",
       "      <td>coollangu_like</td>\n",
       "      <td>0.069230</td>\n",
       "      <td>38</td>\n",
       "    </tr>\n",
       "    <tr>\n",
       "      <th>16</th>\n",
       "      <td>membership_days</td>\n",
       "      <td>0.064854</td>\n",
       "      <td>28</td>\n",
       "    </tr>\n",
       "    <tr>\n",
       "      <th>45</th>\n",
       "      <td>coolgenre_habit</td>\n",
       "      <td>0.060479</td>\n",
       "      <td>21</td>\n",
       "    </tr>\n",
       "    <tr>\n",
       "      <th>51</th>\n",
       "      <td>days_listened</td>\n",
       "      <td>0.053693</td>\n",
       "      <td>19</td>\n",
       "    </tr>\n",
       "    <tr>\n",
       "      <th>17</th>\n",
       "      <td>registration_year</td>\n",
       "      <td>0.039251</td>\n",
       "      <td>17</td>\n",
       "    </tr>\n",
       "    <tr>\n",
       "      <th>50</th>\n",
       "      <td>total_secs</td>\n",
       "      <td>0.038344</td>\n",
       "      <td>15</td>\n",
       "    </tr>\n",
       "    <tr>\n",
       "      <th>41</th>\n",
       "      <td>coolartist_like</td>\n",
       "      <td>0.035340</td>\n",
       "      <td>27</td>\n",
       "    </tr>\n",
       "    <tr>\n",
       "      <th>47</th>\n",
       "      <td>num_50</td>\n",
       "      <td>0.019285</td>\n",
       "      <td>13</td>\n",
       "    </tr>\n",
       "    <tr>\n",
       "      <th>44</th>\n",
       "      <td>cooluni_genre</td>\n",
       "      <td>0.014985</td>\n",
       "      <td>7</td>\n",
       "    </tr>\n",
       "    <tr>\n",
       "      <th>11</th>\n",
       "      <td>city</td>\n",
       "      <td>0.011537</td>\n",
       "      <td>12</td>\n",
       "    </tr>\n",
       "    <tr>\n",
       "      <th>53</th>\n",
       "      <td>coolleng_like</td>\n",
       "      <td>0.006310</td>\n",
       "      <td>6</td>\n",
       "    </tr>\n",
       "    <tr>\n",
       "      <th>18</th>\n",
       "      <td>registration_month</td>\n",
       "      <td>0.005821</td>\n",
       "      <td>6</td>\n",
       "    </tr>\n",
       "    <tr>\n",
       "      <th>14</th>\n",
       "      <td>registered_via</td>\n",
       "      <td>0.005520</td>\n",
       "      <td>6</td>\n",
       "    </tr>\n",
       "    <tr>\n",
       "      <th>12</th>\n",
       "      <td>bd</td>\n",
       "      <td>0.004477</td>\n",
       "      <td>4</td>\n",
       "    </tr>\n",
       "    <tr>\n",
       "      <th>48</th>\n",
       "      <td>num_985</td>\n",
       "      <td>0.003067</td>\n",
       "      <td>4</td>\n",
       "    </tr>\n",
       "    <tr>\n",
       "      <th>52</th>\n",
       "      <td>cooluser_length_mean</td>\n",
       "      <td>0.002589</td>\n",
       "      <td>4</td>\n",
       "    </tr>\n",
       "    <tr>\n",
       "      <th>19</th>\n",
       "      <td>registration_date</td>\n",
       "      <td>0.002517</td>\n",
       "      <td>3</td>\n",
       "    </tr>\n",
       "    <tr>\n",
       "      <th>21</th>\n",
       "      <td>expiration_month</td>\n",
       "      <td>0.001615</td>\n",
       "      <td>1</td>\n",
       "    </tr>\n",
       "    <tr>\n",
       "      <th>15</th>\n",
       "      <td>expiration_date</td>\n",
       "      <td>0.000792</td>\n",
       "      <td>1</td>\n",
       "    </tr>\n",
       "    <tr>\n",
       "      <th>5</th>\n",
       "      <td>song_length</td>\n",
       "      <td>0.000000</td>\n",
       "      <td>0</td>\n",
       "    </tr>\n",
       "    <tr>\n",
       "      <th>23</th>\n",
       "      <td>genre_ids_count</td>\n",
       "      <td>0.000000</td>\n",
       "      <td>0</td>\n",
       "    </tr>\n",
       "    <tr>\n",
       "      <th>13</th>\n",
       "      <td>gender</td>\n",
       "      <td>0.000000</td>\n",
       "      <td>0</td>\n",
       "    </tr>\n",
       "    <tr>\n",
       "      <th>24</th>\n",
       "      <td>lyricists_count</td>\n",
       "      <td>0.000000</td>\n",
       "      <td>0</td>\n",
       "    </tr>\n",
       "    <tr>\n",
       "      <th>36</th>\n",
       "      <td>ratio_lyricist_played</td>\n",
       "      <td>0.000000</td>\n",
       "      <td>0</td>\n",
       "    </tr>\n",
       "    <tr>\n",
       "      <th>35</th>\n",
       "      <td>ratio_genre_played</td>\n",
       "      <td>0.000000</td>\n",
       "      <td>0</td>\n",
       "    </tr>\n",
       "    <tr>\n",
       "      <th>32</th>\n",
       "      <td>ratio_composer_played</td>\n",
       "      <td>0.000000</td>\n",
       "      <td>0</td>\n",
       "    </tr>\n",
       "    <tr>\n",
       "      <th>31</th>\n",
       "      <td>smaller_song</td>\n",
       "      <td>0.000000</td>\n",
       "      <td>0</td>\n",
       "    </tr>\n",
       "    <tr>\n",
       "      <th>30</th>\n",
       "      <td>song_lang_boolean</td>\n",
       "      <td>0.000000</td>\n",
       "      <td>0</td>\n",
       "    </tr>\n",
       "    <tr>\n",
       "      <th>29</th>\n",
       "      <td>artist_composer_lyricist</td>\n",
       "      <td>0.000000</td>\n",
       "      <td>0</td>\n",
       "    </tr>\n",
       "    <tr>\n",
       "      <th>27</th>\n",
       "      <td>artist_count</td>\n",
       "      <td>0.000000</td>\n",
       "      <td>0</td>\n",
       "    </tr>\n",
       "    <tr>\n",
       "      <th>26</th>\n",
       "      <td>is_featured</td>\n",
       "      <td>0.000000</td>\n",
       "      <td>0</td>\n",
       "    </tr>\n",
       "    <tr>\n",
       "      <th>25</th>\n",
       "      <td>composer_count</td>\n",
       "      <td>0.000000</td>\n",
       "      <td>0</td>\n",
       "    </tr>\n",
       "    <tr>\n",
       "      <th>28</th>\n",
       "      <td>artist_composer</td>\n",
       "      <td>0.000000</td>\n",
       "      <td>0</td>\n",
       "    </tr>\n",
       "  </tbody>\n",
       "</table>\n",
       "</div>"
      ]
     },
     "execution_count": 55,
     "metadata": {},
     "output_type": "execute_result"
    }
   ],
   "source": [
    "gain = model_f2.feature_importance('gain')\n",
    "ft = pd.DataFrame({'feature':model_f2.feature_name(), 'split':model_f2.feature_importance('split'), \n",
    "                   'gain':100 * gain / gain.sum()}).sort_values('gain', ascending=False)\n",
    "ft"
   ]
  },
  {
   "cell_type": "markdown",
   "metadata": {},
   "source": [
    "remove artist_composer_lyricist, artist_composer, ratio_lyricist_played, lyricist_count, genre_ids_count, composer_count,smaller_song, is_featured, artist_count, "
   ]
  },
  {
   "cell_type": "code",
   "execution_count": 108,
   "metadata": {
    "collapsed": false
   },
   "outputs": [
    {
     "data": {
      "text/plain": [
       "target                        uint8\nsong_length                  uint32\nbd                            uint8\nexpiration_date               int64\nmembership_days               int64\nregistration_year             int64\nregistration_month            int64\nregistration_date             int64\nexpiration_year               int64\nexpiration_month              int64\nsong_year                   float64\ngenre_ids_count                int8\nlyricists_count                int8\ncomposer_count                 int8\nis_featured                    int8\nartist_count                   int8\nartist_composer                int8\nartist_composer_lyricist       int8\nsong_lang_boolean              int8\nsmaller_song                   int8\nratio_composer_played       float64\nratio_artist_played         float64\nratio_song_played           float64\nratio_genre_played          float64\nratio_lyricist_played       float64\nnum_songs_of_artist         float64\ndtype: object"
      ]
     },
     "execution_count": 108,
     "metadata": {},
     "output_type": "execute_result"
    }
   ],
   "source": [
    "corr_df.dtypes"
   ]
  },
  {
   "cell_type": "markdown",
   "metadata": {},
   "source": [
    "corr: deal ratio with na and add num_song_artist "
   ]
  },
  {
   "cell_type": "code",
   "execution_count": 23,
   "metadata": {},
   "outputs": [],
   "source": [
    "corr_df=train\n",
    "for col in corr_df.columns:\n",
    "    if pd.core.common.is_categorical_dtype(corr_df[col]):\n",
    "        corr_df = corr_df.drop([col], axis=1)"
   ]
  },
  {
   "cell_type": "code",
   "execution_count": 31,
   "metadata": {},
   "outputs": [],
   "source": [
    "pd.set_option('display.max_columns', None)\n",
    "pd.set_option('display.max_rows', None)"
   ]
  },
  {
   "cell_type": "code",
   "execution_count": 24,
   "metadata": {},
   "outputs": [],
   "source": [
    "cor=corr_df.corr()"
   ]
  },
  {
   "cell_type": "code",
   "execution_count": 23,
   "metadata": {},
   "outputs": [],
   "source": [
    "import seaborn as sns\n",
    "import matplotlib.pyplot as plt"
   ]
  },
  {
   "cell_type": "code",
   "execution_count": 25,
   "metadata": {},
   "outputs": [],
   "source": [
    "%matplotlib inline"
   ]
  },
  {
   "cell_type": "code",
   "execution_count": 26,
   "metadata": {
    "collapsed": false
   },
   "outputs": [
    {
     "data": {
      "text/plain": [
       "<matplotlib.axes._subplots.AxesSubplot at 0x13a051048>"
      ]
     },
     "execution_count": 26,
     "metadata": {},
     "output_type": "execute_result"
    },
    {
     "data": {
      "image/png": "[encoded data removed]",
      "text/plain": [
       "<matplotlib.figure.Figure at 0x164fcc630>"
      ]
     },
     "metadata": {},
     "output_type": "display_data"
    }
   ],
   "source": [
    "sns.heatmap(cor, xticklabels=cor.columns,yticklabels=cor.columns,linewidths=2,cmap=\"PiYG\")"
   ]
  },
  {
   "cell_type": "markdown",
   "metadata": {},
   "source": [
    "corr: deal ratio with na and add num_song_artist "
   ]
  },
  {
   "cell_type": "code",
   "execution_count": 55,
   "metadata": {},
   "outputs": [
    {
     "name": "stdout",
     "output_type": "stream",
     "text": [
      "0.694589973745\n"
     ]
    }
   ],
   "source": [
    "from sklearn.metrics import roc_curve, auc\n",
    "p_test_2 = model_f2.predict(X_valid)\n",
    "f,t,x=roc_curve(test['target'].values, p_test_2)\n",
    "roc_auc = auc(f, t)\n",
    "print(roc_auc)"
   ]
  },
  {
   "cell_type": "code",
   "execution_count": 54,
   "metadata": {},
   "outputs": [
    {
     "data": {
      "text/plain": [
       "481"
      ]
     },
     "execution_count": 54,
     "metadata": {},
     "output_type": "execute_result"
    }
   ],
   "source": [
    "gc.collect()"
   ]
  },
  {
   "cell_type": "code",
   "execution_count": null,
   "metadata": {},
   "outputs": [],
   "source": []
  }
 ],
 "metadata": {
  "kernelspec": {
   "display_name": "Python 2",
   "language": "python",
   "name": "python2"
  },
  "language_info": {
   "codemirror_mode": {
    "name": "ipython",
    "version": 2
   },
   "file_extension": ".py",
   "mimetype": "text/x-python",
   "name": "python",
   "nbconvert_exporter": "python",
   "pygments_lexer": "ipython2",
   "version": "2.7.6"
  }
 },
 "nbformat": 4,
 "nbformat_minor": 0
}
